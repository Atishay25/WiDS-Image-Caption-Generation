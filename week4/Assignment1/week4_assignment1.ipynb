{
 "cells": [
  {
   "cell_type": "code",
   "execution_count": 6,
   "metadata": {},
   "outputs": [],
   "source": [
    "import pandas as pd\n",
    "import matplotlib.pyplot as plt \n",
    "import numpy as np"
   ]
  },
  {
   "attachments": {},
   "cell_type": "markdown",
   "metadata": {},
   "source": [
    "## Loading Dataset"
   ]
  },
  {
   "cell_type": "code",
   "execution_count": 7,
   "metadata": {},
   "outputs": [
    {
     "data": {
      "text/html": [
       "<div>\n",
       "<style scoped>\n",
       "    .dataframe tbody tr th:only-of-type {\n",
       "        vertical-align: middle;\n",
       "    }\n",
       "\n",
       "    .dataframe tbody tr th {\n",
       "        vertical-align: top;\n",
       "    }\n",
       "\n",
       "    .dataframe thead th {\n",
       "        text-align: right;\n",
       "    }\n",
       "</style>\n",
       "<table border=\"1\" class=\"dataframe\">\n",
       "  <thead>\n",
       "    <tr style=\"text-align: right;\">\n",
       "      <th></th>\n",
       "      <th>Price</th>\n",
       "      <th>Open</th>\n",
       "      <th>High</th>\n",
       "      <th>Low</th>\n",
       "      <th>Volume</th>\n",
       "      <th>Chg%</th>\n",
       "      <th>Unnamed: 7</th>\n",
       "      <th>Unnamed: 8</th>\n",
       "      <th>Unnamed: 9</th>\n",
       "      <th>Unnamed: 10</th>\n",
       "      <th>Unnamed: 11</th>\n",
       "      <th>Unnamed: 12</th>\n",
       "      <th>Unnamed: 13</th>\n",
       "      <th>Unnamed: 14</th>\n",
       "    </tr>\n",
       "    <tr>\n",
       "      <th>Date</th>\n",
       "      <th></th>\n",
       "      <th></th>\n",
       "      <th></th>\n",
       "      <th></th>\n",
       "      <th></th>\n",
       "      <th></th>\n",
       "      <th></th>\n",
       "      <th></th>\n",
       "      <th></th>\n",
       "      <th></th>\n",
       "      <th></th>\n",
       "      <th></th>\n",
       "      <th></th>\n",
       "      <th></th>\n",
       "    </tr>\n",
       "  </thead>\n",
       "  <tbody>\n",
       "    <tr>\n",
       "      <th>4-Jan-21</th>\n",
       "      <td>47.62</td>\n",
       "      <td>48.40</td>\n",
       "      <td>49.83</td>\n",
       "      <td>47.18</td>\n",
       "      <td>528.53K</td>\n",
       "      <td>-1.85%</td>\n",
       "      <td>NaN</td>\n",
       "      <td>NaN</td>\n",
       "      <td>NaN</td>\n",
       "      <td>NaN</td>\n",
       "      <td>NaN</td>\n",
       "      <td>NaN</td>\n",
       "      <td>NaN</td>\n",
       "      <td>NaN</td>\n",
       "    </tr>\n",
       "    <tr>\n",
       "      <th>5-Jan-21</th>\n",
       "      <td>49.93</td>\n",
       "      <td>47.38</td>\n",
       "      <td>50.20</td>\n",
       "      <td>47.24</td>\n",
       "      <td>643.19K</td>\n",
       "      <td>4.85%</td>\n",
       "      <td>NaN</td>\n",
       "      <td>NaN</td>\n",
       "      <td>NaN</td>\n",
       "      <td>NaN</td>\n",
       "      <td>NaN</td>\n",
       "      <td>NaN</td>\n",
       "      <td>NaN</td>\n",
       "      <td>NaN</td>\n",
       "    </tr>\n",
       "    <tr>\n",
       "      <th>6-Jan-21</th>\n",
       "      <td>50.63</td>\n",
       "      <td>49.82</td>\n",
       "      <td>50.94</td>\n",
       "      <td>49.48</td>\n",
       "      <td>509.37K</td>\n",
       "      <td>1.40%</td>\n",
       "      <td>NaN</td>\n",
       "      <td>NaN</td>\n",
       "      <td>NaN</td>\n",
       "      <td>NaN</td>\n",
       "      <td>NaN</td>\n",
       "      <td>NaN</td>\n",
       "      <td>NaN</td>\n",
       "      <td>NaN</td>\n",
       "    </tr>\n",
       "    <tr>\n",
       "      <th>7-Jan-21</th>\n",
       "      <td>50.83</td>\n",
       "      <td>50.53</td>\n",
       "      <td>51.28</td>\n",
       "      <td>50.39</td>\n",
       "      <td>369.29K</td>\n",
       "      <td>0.40%</td>\n",
       "      <td>NaN</td>\n",
       "      <td>NaN</td>\n",
       "      <td>NaN</td>\n",
       "      <td>NaN</td>\n",
       "      <td>NaN</td>\n",
       "      <td>NaN</td>\n",
       "      <td>NaN</td>\n",
       "      <td>NaN</td>\n",
       "    </tr>\n",
       "    <tr>\n",
       "      <th>8-Jan-21</th>\n",
       "      <td>52.24</td>\n",
       "      <td>50.93</td>\n",
       "      <td>52.75</td>\n",
       "      <td>50.81</td>\n",
       "      <td>499.42K</td>\n",
       "      <td>2.77%</td>\n",
       "      <td>NaN</td>\n",
       "      <td>NaN</td>\n",
       "      <td>NaN</td>\n",
       "      <td>NaN</td>\n",
       "      <td>NaN</td>\n",
       "      <td>NaN</td>\n",
       "      <td>NaN</td>\n",
       "      <td>NaN</td>\n",
       "    </tr>\n",
       "  </tbody>\n",
       "</table>\n",
       "</div>"
      ],
      "text/plain": [
       "          Price   Open   High    Low   Volume    Chg%  Unnamed: 7  Unnamed: 8  \\\n",
       "Date                                                                            \n",
       "4-Jan-21  47.62  48.40  49.83  47.18  528.53K  -1.85%         NaN         NaN   \n",
       "5-Jan-21  49.93  47.38  50.20  47.24  643.19K   4.85%         NaN         NaN   \n",
       "6-Jan-21  50.63  49.82  50.94  49.48  509.37K   1.40%         NaN         NaN   \n",
       "7-Jan-21  50.83  50.53  51.28  50.39  369.29K   0.40%         NaN         NaN   \n",
       "8-Jan-21  52.24  50.93  52.75  50.81  499.42K   2.77%         NaN         NaN   \n",
       "\n",
       "          Unnamed: 9  Unnamed: 10  Unnamed: 11  Unnamed: 12  Unnamed: 13  \\\n",
       "Date                                                                       \n",
       "4-Jan-21         NaN          NaN          NaN          NaN          NaN   \n",
       "5-Jan-21         NaN          NaN          NaN          NaN          NaN   \n",
       "6-Jan-21         NaN          NaN          NaN          NaN          NaN   \n",
       "7-Jan-21         NaN          NaN          NaN          NaN          NaN   \n",
       "8-Jan-21         NaN          NaN          NaN          NaN          NaN   \n",
       "\n",
       "          Unnamed: 14  \n",
       "Date                   \n",
       "4-Jan-21          NaN  \n",
       "5-Jan-21          NaN  \n",
       "6-Jan-21          NaN  \n",
       "7-Jan-21          NaN  \n",
       "8-Jan-21          NaN  "
      ]
     },
     "execution_count": 7,
     "metadata": {},
     "output_type": "execute_result"
    }
   ],
   "source": [
    "data = pd.read_csv('./LSTM_train_week4.csv', index_col='Date')\n",
    "data.head()"
   ]
  },
  {
   "cell_type": "code",
   "execution_count": 8,
   "metadata": {},
   "outputs": [
    {
     "data": {
      "text/plain": [
       "505"
      ]
     },
     "execution_count": 8,
     "metadata": {},
     "output_type": "execute_result"
    }
   ],
   "source": [
    "len(data)"
   ]
  },
  {
   "cell_type": "code",
   "execution_count": 9,
   "metadata": {},
   "outputs": [
    {
     "data": {
      "text/html": [
       "<div>\n",
       "<style scoped>\n",
       "    .dataframe tbody tr th:only-of-type {\n",
       "        vertical-align: middle;\n",
       "    }\n",
       "\n",
       "    .dataframe tbody tr th {\n",
       "        vertical-align: top;\n",
       "    }\n",
       "\n",
       "    .dataframe thead th {\n",
       "        text-align: right;\n",
       "    }\n",
       "</style>\n",
       "<table border=\"1\" class=\"dataframe\">\n",
       "  <thead>\n",
       "    <tr style=\"text-align: right;\">\n",
       "      <th></th>\n",
       "      <th>Price</th>\n",
       "      <th>Open</th>\n",
       "      <th>High</th>\n",
       "      <th>Low</th>\n",
       "      <th>Volume</th>\n",
       "      <th>Chg%</th>\n",
       "      <th>Unnamed: 7</th>\n",
       "      <th>Unnamed: 8</th>\n",
       "      <th>Unnamed: 9</th>\n",
       "      <th>Unnamed: 10</th>\n",
       "      <th>Unnamed: 11</th>\n",
       "      <th>Unnamed: 12</th>\n",
       "      <th>Unnamed: 13</th>\n",
       "      <th>Unnamed: 14</th>\n",
       "    </tr>\n",
       "    <tr>\n",
       "      <th>Date</th>\n",
       "      <th></th>\n",
       "      <th></th>\n",
       "      <th></th>\n",
       "      <th></th>\n",
       "      <th></th>\n",
       "      <th></th>\n",
       "      <th></th>\n",
       "      <th></th>\n",
       "      <th></th>\n",
       "      <th></th>\n",
       "      <th></th>\n",
       "      <th></th>\n",
       "      <th></th>\n",
       "      <th></th>\n",
       "    </tr>\n",
       "  </thead>\n",
       "  <tbody>\n",
       "    <tr>\n",
       "      <th>23-Nov-22</th>\n",
       "      <td>77.94</td>\n",
       "      <td>81.08</td>\n",
       "      <td>81.95</td>\n",
       "      <td>76.83</td>\n",
       "      <td>379.15K</td>\n",
       "      <td>-3.72%</td>\n",
       "      <td>NaN</td>\n",
       "      <td>NaN</td>\n",
       "      <td>NaN</td>\n",
       "      <td>NaN</td>\n",
       "      <td>NaN</td>\n",
       "      <td>NaN</td>\n",
       "      <td>NaN</td>\n",
       "      <td>NaN</td>\n",
       "    </tr>\n",
       "    <tr>\n",
       "      <th>24-Nov-22</th>\n",
       "      <td>77.95</td>\n",
       "      <td>77.53</td>\n",
       "      <td>78.19</td>\n",
       "      <td>76.92</td>\n",
       "      <td>0</td>\n",
       "      <td>0.01%</td>\n",
       "      <td>NaN</td>\n",
       "      <td>NaN</td>\n",
       "      <td>NaN</td>\n",
       "      <td>NaN</td>\n",
       "      <td>NaN</td>\n",
       "      <td>NaN</td>\n",
       "      <td>NaN</td>\n",
       "      <td>NaN</td>\n",
       "    </tr>\n",
       "    <tr>\n",
       "      <th>25-Nov-22</th>\n",
       "      <td>76.28</td>\n",
       "      <td>77.51</td>\n",
       "      <td>79.90</td>\n",
       "      <td>76.22</td>\n",
       "      <td>266.45K</td>\n",
       "      <td>-2.14%</td>\n",
       "      <td>NaN</td>\n",
       "      <td>NaN</td>\n",
       "      <td>NaN</td>\n",
       "      <td>NaN</td>\n",
       "      <td>NaN</td>\n",
       "      <td>NaN</td>\n",
       "      <td>NaN</td>\n",
       "      <td>NaN</td>\n",
       "    </tr>\n",
       "    <tr>\n",
       "      <th>28-Nov-22</th>\n",
       "      <td>77.24</td>\n",
       "      <td>75.93</td>\n",
       "      <td>77.84</td>\n",
       "      <td>73.60</td>\n",
       "      <td>405.03K</td>\n",
       "      <td>1.26%</td>\n",
       "      <td>NaN</td>\n",
       "      <td>NaN</td>\n",
       "      <td>NaN</td>\n",
       "      <td>NaN</td>\n",
       "      <td>NaN</td>\n",
       "      <td>NaN</td>\n",
       "      <td>NaN</td>\n",
       "      <td>NaN</td>\n",
       "    </tr>\n",
       "    <tr>\n",
       "      <th>29-Nov-22</th>\n",
       "      <td>78.20</td>\n",
       "      <td>76.54</td>\n",
       "      <td>79.65</td>\n",
       "      <td>76.29</td>\n",
       "      <td>381.87K</td>\n",
       "      <td>1.24%</td>\n",
       "      <td>NaN</td>\n",
       "      <td>NaN</td>\n",
       "      <td>NaN</td>\n",
       "      <td>NaN</td>\n",
       "      <td>NaN</td>\n",
       "      <td>NaN</td>\n",
       "      <td>NaN</td>\n",
       "      <td>NaN</td>\n",
       "    </tr>\n",
       "  </tbody>\n",
       "</table>\n",
       "</div>"
      ],
      "text/plain": [
       "           Price   Open   High    Low   Volume    Chg%  Unnamed: 7  \\\n",
       "Date                                                                 \n",
       "23-Nov-22  77.94  81.08  81.95  76.83  379.15K  -3.72%         NaN   \n",
       "24-Nov-22  77.95  77.53  78.19  76.92        0   0.01%         NaN   \n",
       "25-Nov-22  76.28  77.51  79.90  76.22  266.45K  -2.14%         NaN   \n",
       "28-Nov-22  77.24  75.93  77.84  73.60  405.03K   1.26%         NaN   \n",
       "29-Nov-22  78.20  76.54  79.65  76.29  381.87K   1.24%         NaN   \n",
       "\n",
       "           Unnamed: 8  Unnamed: 9  Unnamed: 10  Unnamed: 11  Unnamed: 12  \\\n",
       "Date                                                                       \n",
       "23-Nov-22         NaN         NaN          NaN          NaN          NaN   \n",
       "24-Nov-22         NaN         NaN          NaN          NaN          NaN   \n",
       "25-Nov-22         NaN         NaN          NaN          NaN          NaN   \n",
       "28-Nov-22         NaN         NaN          NaN          NaN          NaN   \n",
       "29-Nov-22         NaN         NaN          NaN          NaN          NaN   \n",
       "\n",
       "           Unnamed: 13  Unnamed: 14  \n",
       "Date                                 \n",
       "23-Nov-22          NaN          NaN  \n",
       "24-Nov-22          NaN          NaN  \n",
       "25-Nov-22          NaN          NaN  \n",
       "28-Nov-22          NaN          NaN  \n",
       "29-Nov-22          NaN          NaN  "
      ]
     },
     "execution_count": 9,
     "metadata": {},
     "output_type": "execute_result"
    }
   ],
   "source": [
    "data.tail()"
   ]
  },
  {
   "cell_type": "code",
   "execution_count": 10,
   "metadata": {},
   "outputs": [
    {
     "data": {
      "text/plain": [
       "[<matplotlib.lines.Line2D at 0x7f02b2784550>]"
      ]
     },
     "execution_count": 10,
     "metadata": {},
     "output_type": "execute_result"
    },
    {
     "data": {
      "image/png": "[encoded data removed]",
      "text/plain": [
       "<Figure size 640x480 with 1 Axes>"
      ]
     },
     "metadata": {},
     "output_type": "display_data"
    }
   ],
   "source": [
    "price_data = data['Price']\n",
    "plt.xticks([])\n",
    "plt.xlabel(\"Date$\\longrightarrow$\")\n",
    "plt.ylabel(\"Price\")\n",
    "plt.plot(data.index,price_data)"
   ]
  },
  {
   "cell_type": "code",
   "execution_count": 11,
   "metadata": {},
   "outputs": [
    {
     "data": {
      "text/plain": [
       "<bound method NDFrame.head of Date\n",
       "4-Jan-21     47.62\n",
       "5-Jan-21     49.93\n",
       "6-Jan-21     50.63\n",
       "7-Jan-21     50.83\n",
       "8-Jan-21     52.24\n",
       "             ...  \n",
       "23-Nov-22    77.94\n",
       "24-Nov-22    77.95\n",
       "25-Nov-22    76.28\n",
       "28-Nov-22    77.24\n",
       "29-Nov-22    78.20\n",
       "Name: Price, Length: 505, dtype: float64>"
      ]
     },
     "execution_count": 11,
     "metadata": {},
     "output_type": "execute_result"
    }
   ],
   "source": [
    "from sklearn.preprocessing import MinMaxScaler\n",
    "price_data.head"
   ]
  },
  {
   "cell_type": "code",
   "execution_count": 12,
   "metadata": {},
   "outputs": [
    {
     "data": {
      "text/plain": [
       "505"
      ]
     },
     "execution_count": 12,
     "metadata": {},
     "output_type": "execute_result"
    }
   ],
   "source": [
    "len(price_data)"
   ]
  },
  {
   "cell_type": "code",
   "execution_count": 13,
   "metadata": {},
   "outputs": [
    {
     "data": {
      "text/plain": [
       "array([[0.        ],\n",
       "       [0.03036278],\n",
       "       [0.03956362],\n",
       "       [0.04219243],\n",
       "       [0.06072555],\n",
       "       [0.06085699],\n",
       "       [0.07347529],\n",
       "       [0.06953207],\n",
       "       [0.07820715],\n",
       "       [0.06230284],\n",
       "       [0.06019979],\n",
       "       [0.06230284],\n",
       "       [0.07045216],\n",
       "       [0.07386961],\n",
       "       [0.07242376],\n",
       "       [0.06111987],\n",
       "       [0.0676919 ],\n",
       "       [0.06558885],\n",
       "       [0.06874343],\n",
       "       [0.06203996],\n",
       "       [0.06019979],\n",
       "       [0.07794427],\n",
       "       [0.09384858],\n",
       "       [0.10607256],\n",
       "       [0.11317035],\n",
       "       [0.12131966],\n",
       "       [0.13604101],\n",
       "       [0.14116719],\n",
       "       [0.14537329],\n",
       "       [0.13958991],\n",
       "       [0.1557571 ],\n",
       "       [0.16758675],\n",
       "       [0.16390641],\n",
       "       [0.16338065],\n",
       "       [0.17770768],\n",
       "       [0.16955836],\n",
       "       [0.15273396],\n",
       "       [0.1823081 ],\n",
       "       [0.18467403],\n",
       "       [0.20504732],\n",
       "       [0.20912198],\n",
       "       [0.18243954],\n",
       "       [0.17113565],\n",
       "       [0.15943743],\n",
       "       [0.17954784],\n",
       "       [0.21306519],\n",
       "       [0.24277077],\n",
       "       [0.22910095],\n",
       "       [0.21543113],\n",
       "       [0.22108307],\n",
       "       [0.24185068],\n",
       "       [0.23646162],\n",
       "       [0.23356993],\n",
       "       [0.22581493],\n",
       "       [0.22318612],\n",
       "       [0.16272345],\n",
       "       [0.18138801],\n",
       "       [0.18309674],\n",
       "       [0.13328076],\n",
       "       [0.17823344],\n",
       "       [0.143796  ],\n",
       "       [0.17547319],\n",
       "       [0.18322818],\n",
       "       [0.16995268],\n",
       "       [0.15168244],\n",
       "       [0.18178233],\n",
       "       [0.14497897],\n",
       "       [0.15391693],\n",
       "       [0.15970032],\n",
       "       [0.15746583],\n",
       "       [0.15378549],\n",
       "       [0.15878023],\n",
       "       [0.16508938],\n",
       "       [0.20412723],\n",
       "       [0.20820189],\n",
       "       [0.20386435],\n",
       "       [0.20715037],\n",
       "       [0.19479495],\n",
       "       [0.18046793],\n",
       "       [0.18151945],\n",
       "       [0.19085174],\n",
       "       [0.1878286 ],\n",
       "       [0.20136698],\n",
       "       [0.21345952],\n",
       "       [0.22857518],\n",
       "       [0.20977918],\n",
       "       [0.22174027],\n",
       "       [0.23751314],\n",
       "       [0.2367245 ],\n",
       "       [0.22463197],\n",
       "       [0.22712934],\n",
       "       [0.22739222],\n",
       "       [0.23212408],\n",
       "       [0.24263933],\n",
       "       [0.21293375],\n",
       "       [0.23330705],\n",
       "       [0.2451367 ],\n",
       "       [0.23488433],\n",
       "       [0.20688749],\n",
       "       [0.18966877],\n",
       "       [0.20977918],\n",
       "       [0.24224501],\n",
       "       [0.24250789],\n",
       "       [0.24434805],\n",
       "       [0.25276025],\n",
       "       [0.2457939 ],\n",
       "       [0.2493428 ],\n",
       "       [0.2542061 ],\n",
       "       [0.26419558],\n",
       "       [0.27878549],\n",
       "       [0.27852261],\n",
       "       [0.2891693 ],\n",
       "       [0.28404311],\n",
       "       [0.29482124],\n",
       "       [0.29363828],\n",
       "       [0.29797581],\n",
       "       [0.30612513],\n",
       "       [0.30573081],\n",
       "       [0.32202944],\n",
       "       [0.32242376],\n",
       "       [0.30783386],\n",
       "       [0.31572029],\n",
       "       [0.34227129],\n",
       "       [0.33438486],\n",
       "       [0.33464774],\n",
       "       [0.33753943],\n",
       "       [0.34739748],\n",
       "       [0.33241325],\n",
       "       [0.33333333],\n",
       "       [0.33977392],\n",
       "       [0.36290747],\n",
       "       [0.36198738],\n",
       "       [0.3617245 ],\n",
       "       [0.37631441],\n",
       "       [0.33845952],\n",
       "       [0.32308097],\n",
       "       [0.33280757],\n",
       "       [0.35410095],\n",
       "       [0.34805468],\n",
       "       [0.36317035],\n",
       "       [0.33530494],\n",
       "       [0.31585174],\n",
       "       [0.31795478],\n",
       "       [0.24710831],\n",
       "       [0.26025237],\n",
       "       [0.29810726],\n",
       "       [0.31926919],\n",
       "       [0.32137224],\n",
       "       [0.31926919],\n",
       "       [0.31585174],\n",
       "       [0.32557834],\n",
       "       [0.34174553],\n",
       "       [0.34608307],\n",
       "       [0.31072555],\n",
       "       [0.30152471],\n",
       "       [0.26984753],\n",
       "       [0.28220294],\n",
       "       [0.27155626],\n",
       "       [0.24789695],\n",
       "       [0.2716877 ],\n",
       "       [0.28430599],\n",
       "       [0.28220294],\n",
       "       [0.27365931],\n",
       "       [0.25854364],\n",
       "       [0.2493428 ],\n",
       "       [0.23449001],\n",
       "       [0.21122503],\n",
       "       [0.19321767],\n",
       "       [0.23685594],\n",
       "       [0.26182965],\n",
       "       [0.27260778],\n",
       "       [0.26025237],\n",
       "       [0.27760252],\n",
       "       [0.28378023],\n",
       "       [0.27444795],\n",
       "       [0.27563091],\n",
       "       [0.2940326 ],\n",
       "       [0.28483176],\n",
       "       [0.27773396],\n",
       "       [0.27839117],\n",
       "       [0.27247634],\n",
       "       [0.2849632 ],\n",
       "       [0.26971609],\n",
       "       [0.2904837 ],\n",
       "       [0.30007886],\n",
       "       [0.3002103 ],\n",
       "       [0.32847003],\n",
       "       [0.32847003],\n",
       "       [0.32005783],\n",
       "       [0.29797581],\n",
       "       [0.30152471],\n",
       "       [0.32347529],\n",
       "       [0.33753943],\n",
       "       [0.34647739],\n",
       "       [0.36579916],\n",
       "       [0.36369611],\n",
       "       [0.35764984],\n",
       "       [0.36027865],\n",
       "       [0.3714511 ],\n",
       "       [0.39432177],\n",
       "       [0.41154048],\n",
       "       [0.3918244 ],\n",
       "       [0.40325973],\n",
       "       [0.41706099],\n",
       "       [0.43243954],\n",
       "       [0.43401682],\n",
       "       [0.43138801],\n",
       "       [0.44282334],\n",
       "       [0.45557308],\n",
       "       [0.45767613],\n",
       "       [0.46451104],\n",
       "       [0.47647213],\n",
       "       [0.45846477],\n",
       "       [0.47502629],\n",
       "       [0.47502629],\n",
       "       [0.4867245 ],\n",
       "       [0.46056782],\n",
       "       [0.46253943],\n",
       "       [0.47252892],\n",
       "       [0.47883807],\n",
       "       [0.4769979 ],\n",
       "       [0.43690852],\n",
       "       [0.4099632 ],\n",
       "       [0.44229758],\n",
       "       [0.45097266],\n",
       "       [0.48015247],\n",
       "       [0.44321767],\n",
       "       [0.44650368],\n",
       "       [0.43598843],\n",
       "       [0.4371714 ],\n",
       "       [0.43559411],\n",
       "       [0.40404837],\n",
       "       [0.41259201],\n",
       "       [0.3743428 ],\n",
       "       [0.38288644],\n",
       "       [0.40588854],\n",
       "       [0.40444269],\n",
       "       [0.39156151],\n",
       "       [0.26984753],\n",
       "       [0.29350683],\n",
       "       [0.24395373],\n",
       "       [0.23593586],\n",
       "       [0.24815983],\n",
       "       [0.24500526],\n",
       "       [0.28746057],\n",
       "       [0.32110936],\n",
       "       [0.32518402],\n",
       "       [0.30651945],\n",
       "       [0.31611462],\n",
       "       [0.31111987],\n",
       "       [0.3037592 ],\n",
       "       [0.30559937],\n",
       "       [0.3254469 ],\n",
       "       [0.30546793],\n",
       "       [0.27089905],\n",
       "       [0.30888538],\n",
       "       [0.33044164],\n",
       "       [0.34398002],\n",
       "       [0.36737645],\n",
       "       [0.37276551],\n",
       "       [0.38038906],\n",
       "       [0.38604101],\n",
       "       [0.36264458],\n",
       "       [0.37407992],\n",
       "       [0.38604101],\n",
       "       [0.3973449 ],\n",
       "       [0.41850683],\n",
       "       [0.41114616],\n",
       "       [0.40233964],\n",
       "       [0.44164038],\n",
       "       [0.46030494],\n",
       "       [0.45347003],\n",
       "       [0.47581493],\n",
       "       [0.47594637],\n",
       "       [0.4741062 ],\n",
       "       [0.49697687],\n",
       "       [0.51708728],\n",
       "       [0.51629863],\n",
       "       [0.49316509],\n",
       "       [0.46911146],\n",
       "       [0.49921136],\n",
       "       [0.52221346],\n",
       "       [0.51248686],\n",
       "       [0.51524711],\n",
       "       [0.53272871],\n",
       "       [0.53338591],\n",
       "       [0.53417455],\n",
       "       [0.56059411],\n",
       "       [0.58740799],\n",
       "       [0.57439537],\n",
       "       [0.54863302],\n",
       "       [0.55257624],\n",
       "       [0.55546793],\n",
       "       [0.5977918 ],\n",
       "       [0.62881178],\n",
       "       [0.58425342],\n",
       "       [0.60515247],\n",
       "       [0.58017876],\n",
       "       [0.57110936],\n",
       "       [0.57833859],\n",
       "       [0.59187697],\n",
       "       [0.58793375],\n",
       "       [0.58464774],\n",
       "       [0.59398002],\n",
       "       [0.57794427],\n",
       "       [0.63222923],\n",
       "       [0.73330705],\n",
       "       [0.82781283],\n",
       "       [0.78930074],\n",
       "       [0.89458465],\n",
       "       [0.94348055],\n",
       "       [1.        ],\n",
       "       [0.80283912],\n",
       "       [0.76761304],\n",
       "       [0.81111987],\n",
       "       [0.72804942],\n",
       "       [0.64169295],\n",
       "       [0.62329127],\n",
       "       [0.7276551 ],\n",
       "       [0.75026288],\n",
       "       [0.8477918 ],\n",
       "       [0.84305994],\n",
       "       [0.8847266 ],\n",
       "       [0.85068349],\n",
       "       [0.87118822],\n",
       "       [0.7668244 ],\n",
       "       [0.74421661],\n",
       "       [0.79127234],\n",
       "       [0.69216614],\n",
       "       [0.67889064],\n",
       "       [0.73159832],\n",
       "       [0.71424816],\n",
       "       [0.6389327 ],\n",
       "       [0.63630389],\n",
       "       [0.66561514],\n",
       "       [0.61343323],\n",
       "       [0.69637224],\n",
       "       [0.74434805],\n",
       "       [0.77983701],\n",
       "       [0.79639853],\n",
       "       [0.7221346 ],\n",
       "       [0.72463197],\n",
       "       [0.73830179],\n",
       "       [0.71569401],\n",
       "       [0.66929548],\n",
       "       [0.7108307 ],\n",
       "       [0.7150368 ],\n",
       "       [0.75893796],\n",
       "       [0.75013144],\n",
       "       [0.75644059],\n",
       "       [0.72016299],\n",
       "       [0.7911409 ],\n",
       "       [0.79705573],\n",
       "       [0.81690326],\n",
       "       [0.72910095],\n",
       "       [0.68533123],\n",
       "       [0.76353838],\n",
       "       [0.76905889],\n",
       "       [0.82636698],\n",
       "       [0.87513144],\n",
       "       [0.85147213],\n",
       "       [0.81453733],\n",
       "       [0.84897476],\n",
       "       [0.8623817 ],\n",
       "       [0.82373817],\n",
       "       [0.81690326],\n",
       "       [0.82426393],\n",
       "       [0.87368559],\n",
       "       [0.88656677],\n",
       "       [0.89366456],\n",
       "       [0.91995268],\n",
       "       [0.88130915],\n",
       "       [0.88906414],\n",
       "       [0.91022608],\n",
       "       [0.9365142 ],\n",
       "       [0.93165089],\n",
       "       [0.94361199],\n",
       "       [0.97910095],\n",
       "       [0.97121451],\n",
       "       [0.9601735 ],\n",
       "       [0.96359096],\n",
       "       [0.93730284],\n",
       "       [0.88972135],\n",
       "       [0.9196898 ],\n",
       "       [0.81414301],\n",
       "       [0.80599369],\n",
       "       [0.80467928],\n",
       "       [0.82847003],\n",
       "       [0.76984753],\n",
       "       [0.74461094],\n",
       "       [0.78864353],\n",
       "       [0.81427445],\n",
       "       [0.84305994],\n",
       "       [0.8170347 ],\n",
       "       [0.76419558],\n",
       "       [0.79929022],\n",
       "       [0.79613565],\n",
       "       [0.82518402],\n",
       "       [0.68191377],\n",
       "       [0.66916404],\n",
       "       [0.72436909],\n",
       "       [0.75144585],\n",
       "       [0.74224501],\n",
       "       [0.63380652],\n",
       "       [0.63985279],\n",
       "       [0.63301788],\n",
       "       [0.65680862],\n",
       "       [0.72266036],\n",
       "       [0.74395373],\n",
       "       [0.71819138],\n",
       "       [0.64050999],\n",
       "       [0.61882229],\n",
       "       [0.64511041],\n",
       "       [0.62250263],\n",
       "       [0.65247108],\n",
       "       [0.64143007],\n",
       "       [0.670347  ],\n",
       "       [0.6081756 ],\n",
       "       [0.61514196],\n",
       "       [0.56572029],\n",
       "       [0.53785489],\n",
       "       [0.5440326 ],\n",
       "       [0.5670347 ],\n",
       "       [0.56361725],\n",
       "       [0.58241325],\n",
       "       [0.61409043],\n",
       "       [0.5845163 ],\n",
       "       [0.54929022],\n",
       "       [0.51143533],\n",
       "       [0.53220294],\n",
       "       [0.56361725],\n",
       "       [0.56716614],\n",
       "       [0.56006835],\n",
       "       [0.606204  ],\n",
       "       [0.62131966],\n",
       "       [0.59016824],\n",
       "       [0.59726604],\n",
       "       [0.64918507],\n",
       "       [0.57860147],\n",
       "       [0.55113039],\n",
       "       [0.51248686],\n",
       "       [0.51590431],\n",
       "       [0.53404311],\n",
       "       [0.54337539],\n",
       "       [0.51603575],\n",
       "       [0.4511041 ],\n",
       "       [0.4721346 ],\n",
       "       [0.51485279],\n",
       "       [0.5278654 ],\n",
       "       [0.5216877 ],\n",
       "       [0.53706625],\n",
       "       [0.49263933],\n",
       "       [0.49277077],\n",
       "       [0.50092008],\n",
       "       [0.48409569],\n",
       "       [0.46424816],\n",
       "       [0.47147739],\n",
       "       [0.40904311],\n",
       "       [0.38236067],\n",
       "       [0.40588854],\n",
       "       [0.45386435],\n",
       "       [0.44177182],\n",
       "       [0.41890116],\n",
       "       [0.47331756],\n",
       "       [0.51130389],\n",
       "       [0.52760252],\n",
       "       [0.53667192],\n",
       "       [0.59174553],\n",
       "       [0.571898  ],\n",
       "       [0.54850158],\n",
       "       [0.52116193],\n",
       "       [0.545347  ],\n",
       "       [0.4993428 ],\n",
       "       [0.49737119],\n",
       "       [0.46267087],\n",
       "       [0.49855415],\n",
       "       [0.5042061 ],\n",
       "       [0.49198212],\n",
       "       [0.48580442],\n",
       "       [0.49553102],\n",
       "       [0.52957413],\n",
       "       [0.54495268],\n",
       "       [0.52944269],\n",
       "       [0.51143533],\n",
       "       [0.5356204 ],\n",
       "       [0.55704522],\n",
       "       [0.53299159],\n",
       "       [0.59135121],\n",
       "       [0.58057308],\n",
       "       [0.54271819],\n",
       "       [0.50223449],\n",
       "       [0.51064669],\n",
       "       [0.54337539],\n",
       "       [0.50276025],\n",
       "       [0.51656151],\n",
       "       [0.49907992],\n",
       "       [0.44716088],\n",
       "       [0.42665615],\n",
       "       [0.42205573],\n",
       "       [0.43809148],\n",
       "       [0.39852787],\n",
       "       [0.39865931],\n",
       "       [0.37670873],\n",
       "       [0.38932702],\n",
       "       [0.40194532]])"
      ]
     },
     "execution_count": 13,
     "metadata": {},
     "output_type": "execute_result"
    }
   ],
   "source": [
    "# Using MinMaxScaler for normalizing data between 0 & 1\n",
    "normalizer = MinMaxScaler(feature_range=(0,1))\n",
    "price_data_scaled = normalizer.fit_transform(np.array(price_data).reshape(-1,1))\n",
    "price_data_scaled"
   ]
  },
  {
   "cell_type": "code",
   "execution_count": 14,
   "metadata": {},
   "outputs": [
    {
     "data": {
      "text/plain": [
       "(353, 152)"
      ]
     },
     "execution_count": 14,
     "metadata": {},
     "output_type": "execute_result"
    }
   ],
   "source": [
    "#Defining test and train data sizes\n",
    "train_size = int(len(price_data_scaled)*0.70)\n",
    "test_size = len(price_data_scaled) - train_size\n",
    "train_size,test_size"
   ]
  },
  {
   "cell_type": "code",
   "execution_count": 15,
   "metadata": {},
   "outputs": [
    {
     "data": {
      "text/plain": [
       "(353, 152)"
      ]
     },
     "execution_count": 15,
     "metadata": {},
     "output_type": "execute_result"
    }
   ],
   "source": [
    "#Splitting data between train and test\n",
    "pd_train, pd_test = price_data_scaled[0:train_size,:], price_data_scaled[train_size:len(price_data_scaled),:1]\n",
    "len(pd_train),len(pd_test)"
   ]
  },
  {
   "cell_type": "code",
   "execution_count": 16,
   "metadata": {},
   "outputs": [],
   "source": [
    "#creating dataset in time series for LSTM model \n",
    "#X[100,120,140,160,180] : Y[200]\n",
    "def create_ds(dataset,step):\n",
    "    Xtrain, Ytrain = [], []\n",
    "    for i in range(len(dataset)-step-1):\n",
    "        a = dataset[i:(i+step), 0]\n",
    "        Xtrain.append(a)\n",
    "        Ytrain.append(dataset[i + step, 0])\n",
    "    return np.array(Xtrain), np.array(Ytrain)"
   ]
  },
  {
   "cell_type": "code",
   "execution_count": 17,
   "metadata": {},
   "outputs": [],
   "source": [
    "#Taking 100 days price as one record for training\n",
    "time_stamp = 100\n",
    "X_train, y_train = create_ds(pd_train,time_stamp)\n",
    "X_test, y_test = create_ds(pd_test,time_stamp)"
   ]
  },
  {
   "cell_type": "code",
   "execution_count": 18,
   "metadata": {},
   "outputs": [
    {
     "data": {
      "text/plain": [
       "((252, 100), (252,))"
      ]
     },
     "execution_count": 18,
     "metadata": {},
     "output_type": "execute_result"
    }
   ],
   "source": [
    "X_train.shape,y_train.shape"
   ]
  },
  {
   "cell_type": "code",
   "execution_count": 19,
   "metadata": {},
   "outputs": [
    {
     "data": {
      "text/plain": [
       "((252, 100, 1), (252,))"
      ]
     },
     "execution_count": 19,
     "metadata": {},
     "output_type": "execute_result"
    }
   ],
   "source": [
    "#Reshaping data to fit into LSTM model\n",
    "X_train = X_train.reshape(X_train.shape[0],X_train.shape[1] , 1)\n",
    "X_test = X_test.reshape(X_test.shape[0],X_test.shape[1] , 1)\n",
    "X_train.shape,y_train.shape"
   ]
  },
  {
   "cell_type": "code",
   "execution_count": 27,
   "metadata": {},
   "outputs": [
    {
     "data": {
      "text/plain": [
       "((51, 100, 1), (51,))"
      ]
     },
     "execution_count": 27,
     "metadata": {},
     "output_type": "execute_result"
    }
   ],
   "source": [
    "X_test.shape, y_test.shape"
   ]
  },
  {
   "cell_type": "code",
   "execution_count": 20,
   "metadata": {},
   "outputs": [],
   "source": [
    "from keras.models import Sequential\n",
    "from keras.layers import Dense, LSTM"
   ]
  },
  {
   "cell_type": "code",
   "execution_count": 21,
   "metadata": {},
   "outputs": [
    {
     "name": "stdout",
     "output_type": "stream",
     "text": [
      "Model: \"sequential_1\"\n",
      "_________________________________________________________________\n",
      " Layer (type)                Output Shape              Param #   \n",
      "=================================================================\n",
      " lstm (LSTM)                 (None, 100, 50)           10400     \n",
      "                                                                 \n",
      " lstm_1 (LSTM)               (None, 100, 50)           20200     \n",
      "                                                                 \n",
      " lstm_2 (LSTM)               (None, 50)                20200     \n",
      "                                                                 \n",
      " dense (Dense)               (None, 1)                 51        \n",
      "                                                                 \n",
      "=================================================================\n",
      "Total params: 50,851\n",
      "Trainable params: 50,851\n",
      "Non-trainable params: 0\n",
      "_________________________________________________________________\n"
     ]
    }
   ],
   "source": [
    "# LSTM model using keras\n",
    "\n",
    "model = Sequential()\n",
    "model.add(LSTM(units = 50, return_sequences=True, input_shape =(X_train.shape[1],1)))\n",
    "model.add(LSTM(units = 50, return_sequences=True))\n",
    "model.add(LSTM(units =50))\n",
    "model.add(Dense(units = 1, activation='linear'))\n",
    "model.summary()"
   ]
  },
  {
   "cell_type": "code",
   "execution_count": 22,
   "metadata": {},
   "outputs": [
    {
     "name": "stdout",
     "output_type": "stream",
     "text": [
      "Epoch 1/10\n",
      "4/4 [==============================] - 11s 683ms/step - loss: 0.1035 - val_loss: 0.0067\n",
      "Epoch 2/10\n",
      "4/4 [==============================] - 1s 156ms/step - loss: 0.0298 - val_loss: 0.0175\n",
      "Epoch 3/10\n",
      "4/4 [==============================] - 1s 162ms/step - loss: 0.0101 - val_loss: 0.0109\n",
      "Epoch 4/10\n",
      "4/4 [==============================] - 1s 163ms/step - loss: 0.0194 - val_loss: 0.0068\n",
      "Epoch 5/10\n",
      "4/4 [==============================] - 1s 177ms/step - loss: 0.0103 - val_loss: 0.0090\n",
      "Epoch 6/10\n",
      "4/4 [==============================] - 1s 166ms/step - loss: 0.0115 - val_loss: 0.0139\n",
      "Epoch 7/10\n",
      "4/4 [==============================] - 1s 157ms/step - loss: 0.0084 - val_loss: 0.0040\n",
      "Epoch 8/10\n",
      "4/4 [==============================] - 1s 153ms/step - loss: 0.0089 - val_loss: 0.0043\n",
      "Epoch 9/10\n",
      "4/4 [==============================] - 1s 151ms/step - loss: 0.0082 - val_loss: 0.0051\n",
      "Epoch 10/10\n",
      "4/4 [==============================] - 1s 153ms/step - loss: 0.0067 - val_loss: 0.0097\n"
     ]
    },
    {
     "data": {
      "text/plain": [
       "<keras.callbacks.History at 0x7f02a9f42220>"
      ]
     },
     "execution_count": 22,
     "metadata": {},
     "output_type": "execute_result"
    }
   ],
   "source": [
    "#Training model with adam optimizer and mean squared error loss function\n",
    "model.compile(loss='mean_squared_error',optimizer='adam')\n",
    "model.fit(X_train,y_train,validation_data=(X_test,y_test),epochs=10,batch_size=64)"
   ]
  },
  {
   "cell_type": "code",
   "execution_count": 23,
   "metadata": {},
   "outputs": [
    {
     "data": {
      "text/plain": [
       "[<matplotlib.lines.Line2D at 0x7f02b37e9760>]"
      ]
     },
     "execution_count": 23,
     "metadata": {},
     "output_type": "execute_result"
    },
    {
     "data": {
      "image/png": "[encoded data removed]",
      "text/plain": [
       "<Figure size 640x480 with 1 Axes>"
      ]
     },
     "metadata": {},
     "output_type": "display_data"
    }
   ],
   "source": [
    "#PLotting loss, it shows that loss has decreased significantly and model trained well\n",
    "loss = model.history.history['loss']\n",
    "plt.plot(loss)"
   ]
  },
  {
   "cell_type": "code",
   "execution_count": 24,
   "metadata": {},
   "outputs": [
    {
     "name": "stdout",
     "output_type": "stream",
     "text": [
      "8/8 [==============================] - 1s 39ms/step\n",
      "2/2 [==============================] - 0s 26ms/step\n"
     ]
    }
   ],
   "source": [
    "#Predicitng on train and test data\n",
    "train_predict = model.predict(X_train)\n",
    "test_predict = model.predict(X_test)"
   ]
  },
  {
   "cell_type": "code",
   "execution_count": 29,
   "metadata": {},
   "outputs": [],
   "source": [
    "#Inverse transform to get actual value\n",
    "train_predict = normalizer.inverse_transform(train_predict)\n",
    "test_predict = normalizer.inverse_transform(test_predict)"
   ]
  },
  {
   "cell_type": "code",
   "execution_count": 36,
   "metadata": {},
   "outputs": [
    {
     "data": {
      "text/plain": [
       "[<matplotlib.lines.Line2D at 0x7f02a9772f70>]"
      ]
     },
     "execution_count": 36,
     "metadata": {},
     "output_type": "execute_result"
    },
    {
     "data": {
      "image/png": "[encoded data removed]",
      "text/plain": [
       "<Figure size 640x480 with 1 Axes>"
      ]
     },
     "metadata": {},
     "output_type": "display_data"
    }
   ],
   "source": [
    "#Comparing using visuals\n",
    "plt.plot(normalizer.inverse_transform(price_data_scaled))\n",
    "plt.plot(train_predict)\n",
    "plt.plot(test_predict)\n",
    "#plt.plot(normalizer.inverse_transform(y_train))\n",
    "#plt.plot(normalizer.inverse_transform(y_test))"
   ]
  },
  {
   "cell_type": "code",
   "execution_count": 37,
   "metadata": {},
   "outputs": [],
   "source": [
    "test = np.vstack((train_predict,test_predict))"
   ]
  },
  {
   "cell_type": "code",
   "execution_count": 39,
   "metadata": {},
   "outputs": [
    {
     "data": {
      "text/plain": [
       "[<matplotlib.lines.Line2D at 0x7f02a96fc040>]"
      ]
     },
     "execution_count": 39,
     "metadata": {},
     "output_type": "execute_result"
    },
    {
     "data": {
      "image/png": "[encoded data removed]",
      "text/plain": [
       "<Figure size 640x480 with 1 Axes>"
      ]
     },
     "metadata": {},
     "output_type": "display_data"
    }
   ],
   "source": [
    "#Combining the predited data to create uniform data visualization\n",
    "plt.plot(normalizer.inverse_transform(price_data_scaled))\n",
    "plt.plot(test)"
   ]
  },
  {
   "cell_type": "code",
   "execution_count": 41,
   "metadata": {},
   "outputs": [
    {
     "data": {
      "text/plain": [
       "152"
      ]
     },
     "execution_count": 41,
     "metadata": {},
     "output_type": "execute_result"
    }
   ],
   "source": [
    "len(pd_test)"
   ]
  },
  {
   "cell_type": "code",
   "execution_count": 42,
   "metadata": {},
   "outputs": [],
   "source": [
    "#Getting the last 100 days records\n",
    "fut_inp = pd_test[52:]"
   ]
  },
  {
   "cell_type": "code",
   "execution_count": 43,
   "metadata": {},
   "outputs": [
    {
     "data": {
      "text/plain": [
       "(1, 100)"
      ]
     },
     "execution_count": 43,
     "metadata": {},
     "output_type": "execute_result"
    }
   ],
   "source": [
    "fut_inp = fut_inp.reshape(1,-1)\n",
    "fut_inp.shape"
   ]
  },
  {
   "cell_type": "code",
   "execution_count": 49,
   "metadata": {},
   "outputs": [
    {
     "data": {
      "text/plain": [
       "list"
      ]
     },
     "execution_count": 49,
     "metadata": {},
     "output_type": "execute_result"
    }
   ],
   "source": [
    "#Creating list of the last 100 data\n",
    "tmp_inp = fut_inp[0].tolist()\n",
    "type(tmp_inp)"
   ]
  },
  {
   "cell_type": "code",
   "execution_count": 50,
   "metadata": {},
   "outputs": [
    {
     "name": "stdout",
     "output_type": "stream",
     "text": [
      "[[0.5483052730560303], [0.5417486429214478], [0.5364679098129272], [0.5327410697937012], [0.5306168794631958], [0.5299946069717407], [0.5306887030601501], [0.5324761271476746], [0.5351308584213257], [0.5384429693222046], [0.5422306060791016], [0.5463438034057617], [0.5506640076637268], [0.5551015138626099], [0.5595906972885132], [0.5640862584114075], [0.5685579776763916], [0.5729872584342957], [0.5773634910583496], [0.5816824436187744], [0.5859425067901611], [0.5901448130607605], [0.5942918062210083], [0.5983858704566956], [0.6024291515350342], [0.6064245104789734], [0.6103735566139221], [0.6142780780792236], [0.6181390881538391], [0.6219576001167297]]\n"
     ]
    }
   ],
   "source": [
    "#Predicting next 30 days price suing the current data\n",
    "#It will predict in sliding window manner (algorithm) with stride 1\n",
    "lst_output=[]\n",
    "n_steps=100\n",
    "i=0\n",
    "while(i<30):\n",
    "    \n",
    "    if(len(tmp_inp)>100):\n",
    "        fut_inp = np.array(tmp_inp[1:])\n",
    "        fut_inp=fut_inp.reshape(1,-1)\n",
    "        fut_inp = fut_inp.reshape((1, n_steps, 1))\n",
    "        yhat = model.predict(fut_inp, verbose=0)\n",
    "        tmp_inp.extend(yhat[0].tolist())\n",
    "        tmp_inp = tmp_inp[1:]\n",
    "        lst_output.extend(yhat.tolist())\n",
    "        i=i+1\n",
    "    else:\n",
    "        fut_inp = fut_inp.reshape((1, n_steps,1))\n",
    "        yhat = model.predict(fut_inp, verbose=0)\n",
    "        tmp_inp.extend(yhat[0].tolist())\n",
    "        lst_output.extend(yhat.tolist())\n",
    "        i=i+1\n",
    "    \n",
    "\n",
    "print(lst_output)"
   ]
  },
  {
   "cell_type": "code",
   "execution_count": 51,
   "metadata": {},
   "outputs": [
    {
     "data": {
      "text/plain": [
       "505"
      ]
     },
     "execution_count": 51,
     "metadata": {},
     "output_type": "execute_result"
    }
   ],
   "source": [
    "len(price_data_scaled)"
   ]
  },
  {
   "cell_type": "code",
   "execution_count": 52,
   "metadata": {},
   "outputs": [],
   "source": [
    "#Creating a dummy plane to plot graph one after another\n",
    "plot_new=np.arange(1,101)\n",
    "plot_pred=np.arange(101,131)"
   ]
  },
  {
   "cell_type": "code",
   "execution_count": 53,
   "metadata": {},
   "outputs": [
    {
     "data": {
      "text/plain": [
       "[<matplotlib.lines.Line2D at 0x7f02a95c80d0>]"
      ]
     },
     "execution_count": 53,
     "metadata": {},
     "output_type": "execute_result"
    },
    {
     "data": {
      "image/png": "[encoded data removed]",
      "text/plain": [
       "<Figure size 640x480 with 1 Axes>"
      ]
     },
     "metadata": {},
     "output_type": "display_data"
    }
   ],
   "source": [
    "\n",
    "plt.plot(plot_new, normalizer.inverse_transform(price_data_scaled[405:]))\n",
    "plt.plot(plot_pred, normalizer.inverse_transform(lst_output))"
   ]
  },
  {
   "cell_type": "code",
   "execution_count": 55,
   "metadata": {},
   "outputs": [
    {
     "data": {
      "text/plain": [
       "505"
      ]
     },
     "execution_count": 55,
     "metadata": {},
     "output_type": "execute_result"
    }
   ],
   "source": [
    "pd_new = price_data_scaled.tolist()\n",
    "len(pd_new)"
   ]
  },
  {
   "cell_type": "code",
   "execution_count": 57,
   "metadata": {},
   "outputs": [
    {
     "data": {
      "text/plain": [
       "[<matplotlib.lines.Line2D at 0x7f02a9570b20>]"
      ]
     },
     "execution_count": 57,
     "metadata": {},
     "output_type": "execute_result"
    },
    {
     "data": {
      "image/png": "[encoded data removed]",
      "text/plain": [
       "<Figure size 640x480 with 1 Axes>"
      ]
     },
     "metadata": {},
     "output_type": "display_data"
    }
   ],
   "source": [
    "#Entends helps us to fill the missing value with approx value\n",
    "pd_new.extend(lst_output)\n",
    "plt.plot(pd_new[480:])"
   ]
  },
  {
   "cell_type": "code",
   "execution_count": 62,
   "metadata": {},
   "outputs": [
    {
     "name": "stdout",
     "output_type": "stream",
     "text": [
      "535\n",
      "[[89.33506517410278], [88.83623675346375], [88.43447857856751], [88.15094058990479], [87.98933218955995], [87.94198969841004], [87.99479652881622], [88.13078375339508], [88.33275570869446], [88.58474110603333], [88.87290451049805], [89.18583656311036], [89.51451770305634], [89.85212317466737], [90.19366024971009], [90.53568253993988], [90.87589094161987], [91.21287062168122], [91.54581439971925], [91.87440031051636], [92.19850591659547], [92.51821737766267], [92.83372061729432], [93.1451970243454], [93.4528098487854], [93.7567767572403], [94.0572201871872], [94.35427618026733], [94.64802182674408], [94.9385342168808]]\n"
     ]
    }
   ],
   "source": [
    "#Creating final data for plotting\n",
    "final_graph = normalizer.inverse_transform(pd_new).tolist()\n",
    "print(len(final_graph))\n",
    "print(final_graph[505:])"
   ]
  },
  {
   "cell_type": "code",
   "execution_count": 60,
   "metadata": {},
   "outputs": [
    {
     "data": {
      "text/plain": [
       "<matplotlib.legend.Legend at 0x7f02a95a8640>"
      ]
     },
     "execution_count": 60,
     "metadata": {},
     "output_type": "execute_result"
    },
    {
     "data": {
      "image/png": "[encoded data removed]",
      "text/plain": [
       "<Figure size 640x480 with 1 Axes>"
      ]
     },
     "metadata": {},
     "output_type": "display_data"
    }
   ],
   "source": [
    "#Plotting final results with predicted value after 30 Days\n",
    "plt.plot(final_graph,)\n",
    "plt.ylabel(\"Price\")\n",
    "plt.xlabel(\"Time\")\n",
    "#plt.title(\"{0} prediction of next month open\".format(stock_symbol))\n",
    "plt.axhline(y=final_graph[len(final_graph)-1], color = 'red', linestyle = ':', label = 'NEXT 30D: {0}'.format(round(float(*final_graph[len(final_graph)-1]),2)))\n",
    "plt.legend()"
   ]
  }
 ],
 "metadata": {
  "kernelspec": {
   "display_name": "Python 3",
   "language": "python",
   "name": "python3"
  },
  "language_info": {
   "codemirror_mode": {
    "name": "ipython",
    "version": 3
   },
   "file_extension": ".py",
   "mimetype": "text/x-python",
   "name": "python",
   "nbconvert_exporter": "python",
   "pygments_lexer": "ipython3",
   "version": "3.8.10"
  },
  "orig_nbformat": 4,
  "vscode": {
   "interpreter": {
    "hash": "31f2aee4e71d21fbe5cf8b01ff0e069b9275f58929596ceb00d14d90e3e16cd6"
   }
  }
 },
 "nbformat": 4,
 "nbformat_minor": 2
}
